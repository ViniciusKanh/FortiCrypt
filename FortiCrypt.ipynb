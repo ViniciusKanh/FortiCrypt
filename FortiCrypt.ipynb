{
  "nbformat": 4,
  "nbformat_minor": 0,
  "metadata": {
    "colab": {
      "provenance": [],
      "authorship_tag": "ABX9TyNjLb7TH8UP65cHTQcq7HPv",
      "include_colab_link": true
    },
    "kernelspec": {
      "name": "python3",
      "display_name": "Python 3"
    },
    "language_info": {
      "name": "python"
    },
    "widgets": {
      "application/vnd.jupyter.widget-state+json": {
        "8b519ace1e8e403ab74beff535a00ae9": {
          "model_module": "@jupyter-widgets/controls",
          "model_name": "BoxModel",
          "model_module_version": "1.5.0",
          "state": {
            "_dom_classes": [],
            "_model_module": "@jupyter-widgets/controls",
            "_model_module_version": "1.5.0",
            "_model_name": "BoxModel",
            "_view_count": null,
            "_view_module": "@jupyter-widgets/controls",
            "_view_module_version": "1.5.0",
            "_view_name": "BoxView",
            "box_style": "",
            "children": [
              "IPY_MODEL_b398565b02eb4596b3b2064969ccdd19",
              "IPY_MODEL_6b31bcfedeca44e3bc0ebfeb5c8fbdc7"
            ],
            "layout": "IPY_MODEL_8745550edb544a7fbdeb669a33d64924"
          }
        },
        "b398565b02eb4596b3b2064969ccdd19": {
          "model_module": "@jupyter-widgets/controls",
          "model_name": "TextModel",
          "model_module_version": "1.5.0",
          "state": {
            "_dom_classes": [],
            "_model_module": "@jupyter-widgets/controls",
            "_model_module_version": "1.5.0",
            "_model_name": "TextModel",
            "_view_count": null,
            "_view_module": "@jupyter-widgets/controls",
            "_view_module_version": "1.5.0",
            "_view_name": "TextView",
            "continuous_update": true,
            "description": "",
            "description_tooltip": null,
            "disabled": false,
            "layout": "IPY_MODEL_cb337c6289af4ef08e15f8a491291d90",
            "placeholder": "Digite uma senha...",
            "style": "IPY_MODEL_7a3590b2189840778bd0ac7e5066f4c4",
            "value": "eu-:l'%bf)?t"
          }
        },
        "6b31bcfedeca44e3bc0ebfeb5c8fbdc7": {
          "model_module": "@jupyter-widgets/controls",
          "model_name": "ButtonModel",
          "model_module_version": "1.5.0",
          "state": {
            "_dom_classes": [],
            "_model_module": "@jupyter-widgets/controls",
            "_model_module_version": "1.5.0",
            "_model_name": "ButtonModel",
            "_view_count": null,
            "_view_module": "@jupyter-widgets/controls",
            "_view_module_version": "1.5.0",
            "_view_name": "ButtonView",
            "button_style": "success",
            "description": "Verificar Força",
            "disabled": false,
            "icon": "",
            "layout": "IPY_MODEL_e36eed08fa26457ca5a4cfd8372ffcc5",
            "style": "IPY_MODEL_11cf79d4339b459a924963de762e48a2",
            "tooltip": ""
          }
        },
        "8745550edb544a7fbdeb669a33d64924": {
          "model_module": "@jupyter-widgets/base",
          "model_name": "LayoutModel",
          "model_module_version": "1.2.0",
          "state": {
            "_model_module": "@jupyter-widgets/base",
            "_model_module_version": "1.2.0",
            "_model_name": "LayoutModel",
            "_view_count": null,
            "_view_module": "@jupyter-widgets/base",
            "_view_module_version": "1.2.0",
            "_view_name": "LayoutView",
            "align_content": null,
            "align_items": "stretch",
            "align_self": null,
            "border": null,
            "bottom": null,
            "display": "flex",
            "flex": null,
            "flex_flow": "row",
            "grid_area": null,
            "grid_auto_columns": null,
            "grid_auto_flow": null,
            "grid_auto_rows": null,
            "grid_column": null,
            "grid_gap": null,
            "grid_row": null,
            "grid_template_areas": null,
            "grid_template_columns": null,
            "grid_template_rows": null,
            "height": null,
            "justify_content": null,
            "justify_items": null,
            "left": null,
            "margin": null,
            "max_height": null,
            "max_width": null,
            "min_height": null,
            "min_width": null,
            "object_fit": null,
            "object_position": null,
            "order": null,
            "overflow": null,
            "overflow_x": null,
            "overflow_y": null,
            "padding": null,
            "right": null,
            "top": null,
            "visibility": null,
            "width": "100%"
          }
        },
        "cb337c6289af4ef08e15f8a491291d90": {
          "model_module": "@jupyter-widgets/base",
          "model_name": "LayoutModel",
          "model_module_version": "1.2.0",
          "state": {
            "_model_module": "@jupyter-widgets/base",
            "_model_module_version": "1.2.0",
            "_model_name": "LayoutModel",
            "_view_count": null,
            "_view_module": "@jupyter-widgets/base",
            "_view_module_version": "1.2.0",
            "_view_name": "LayoutView",
            "align_content": null,
            "align_items": null,
            "align_self": null,
            "border": null,
            "bottom": null,
            "display": null,
            "flex": null,
            "flex_flow": null,
            "grid_area": null,
            "grid_auto_columns": null,
            "grid_auto_flow": null,
            "grid_auto_rows": null,
            "grid_column": null,
            "grid_gap": null,
            "grid_row": null,
            "grid_template_areas": null,
            "grid_template_columns": null,
            "grid_template_rows": null,
            "height": "28px",
            "justify_content": null,
            "justify_items": null,
            "left": null,
            "margin": null,
            "max_height": null,
            "max_width": null,
            "min_height": null,
            "min_width": null,
            "object_fit": null,
            "object_position": null,
            "order": null,
            "overflow": null,
            "overflow_x": null,
            "overflow_y": null,
            "padding": null,
            "right": null,
            "top": null,
            "visibility": null,
            "width": "300px"
          }
        },
        "7a3590b2189840778bd0ac7e5066f4c4": {
          "model_module": "@jupyter-widgets/controls",
          "model_name": "DescriptionStyleModel",
          "model_module_version": "1.5.0",
          "state": {
            "_model_module": "@jupyter-widgets/controls",
            "_model_module_version": "1.5.0",
            "_model_name": "DescriptionStyleModel",
            "_view_count": null,
            "_view_module": "@jupyter-widgets/base",
            "_view_module_version": "1.2.0",
            "_view_name": "StyleView",
            "description_width": ""
          }
        },
        "e36eed08fa26457ca5a4cfd8372ffcc5": {
          "model_module": "@jupyter-widgets/base",
          "model_name": "LayoutModel",
          "model_module_version": "1.2.0",
          "state": {
            "_model_module": "@jupyter-widgets/base",
            "_model_module_version": "1.2.0",
            "_model_name": "LayoutModel",
            "_view_count": null,
            "_view_module": "@jupyter-widgets/base",
            "_view_module_version": "1.2.0",
            "_view_name": "LayoutView",
            "align_content": null,
            "align_items": null,
            "align_self": null,
            "border": null,
            "bottom": null,
            "display": null,
            "flex": null,
            "flex_flow": null,
            "grid_area": null,
            "grid_auto_columns": null,
            "grid_auto_flow": null,
            "grid_auto_rows": null,
            "grid_column": null,
            "grid_gap": null,
            "grid_row": null,
            "grid_template_areas": null,
            "grid_template_columns": null,
            "grid_template_rows": null,
            "height": "35px",
            "justify_content": null,
            "justify_items": null,
            "left": null,
            "margin": null,
            "max_height": null,
            "max_width": null,
            "min_height": null,
            "min_width": null,
            "object_fit": null,
            "object_position": null,
            "order": null,
            "overflow": null,
            "overflow_x": null,
            "overflow_y": null,
            "padding": null,
            "right": null,
            "top": null,
            "visibility": null,
            "width": "150px"
          }
        },
        "11cf79d4339b459a924963de762e48a2": {
          "model_module": "@jupyter-widgets/controls",
          "model_name": "ButtonStyleModel",
          "model_module_version": "1.5.0",
          "state": {
            "_model_module": "@jupyter-widgets/controls",
            "_model_module_version": "1.5.0",
            "_model_name": "ButtonStyleModel",
            "_view_count": null,
            "_view_module": "@jupyter-widgets/base",
            "_view_module_version": "1.2.0",
            "_view_name": "StyleView",
            "button_color": null,
            "font_weight": ""
          }
        },
        "50edcaca11c44f08b90529bea6d38af4": {
          "model_module": "@jupyter-widgets/controls",
          "model_name": "HTMLModel",
          "model_module_version": "1.5.0",
          "state": {
            "_dom_classes": [],
            "_model_module": "@jupyter-widgets/controls",
            "_model_module_version": "1.5.0",
            "_model_name": "HTMLModel",
            "_view_count": null,
            "_view_module": "@jupyter-widgets/controls",
            "_view_module_version": "1.5.0",
            "_view_name": "HTMLView",
            "description": "",
            "description_tooltip": null,
            "layout": "IPY_MODEL_93c88e148e434e10bba847a05b9ec6bc",
            "placeholder": "​",
            "style": "IPY_MODEL_49314ecb424e487dac2f8bbc83087ca5",
            "value": "<div style='color: orange; font-weight: bold;'>Senha Fraca ou Média</div>"
          }
        },
        "93c88e148e434e10bba847a05b9ec6bc": {
          "model_module": "@jupyter-widgets/base",
          "model_name": "LayoutModel",
          "model_module_version": "1.2.0",
          "state": {
            "_model_module": "@jupyter-widgets/base",
            "_model_module_version": "1.2.0",
            "_model_name": "LayoutModel",
            "_view_count": null,
            "_view_module": "@jupyter-widgets/base",
            "_view_module_version": "1.2.0",
            "_view_name": "LayoutView",
            "align_content": null,
            "align_items": null,
            "align_self": null,
            "border": null,
            "bottom": null,
            "display": null,
            "flex": null,
            "flex_flow": null,
            "grid_area": null,
            "grid_auto_columns": null,
            "grid_auto_flow": null,
            "grid_auto_rows": null,
            "grid_column": null,
            "grid_gap": null,
            "grid_row": null,
            "grid_template_areas": null,
            "grid_template_columns": null,
            "grid_template_rows": null,
            "height": null,
            "justify_content": null,
            "justify_items": null,
            "left": null,
            "margin": null,
            "max_height": null,
            "max_width": null,
            "min_height": null,
            "min_width": null,
            "object_fit": null,
            "object_position": null,
            "order": null,
            "overflow": null,
            "overflow_x": null,
            "overflow_y": null,
            "padding": null,
            "right": null,
            "top": null,
            "visibility": null,
            "width": null
          }
        },
        "49314ecb424e487dac2f8bbc83087ca5": {
          "model_module": "@jupyter-widgets/controls",
          "model_name": "DescriptionStyleModel",
          "model_module_version": "1.5.0",
          "state": {
            "_model_module": "@jupyter-widgets/controls",
            "_model_module_version": "1.5.0",
            "_model_name": "DescriptionStyleModel",
            "_view_count": null,
            "_view_module": "@jupyter-widgets/base",
            "_view_module_version": "1.2.0",
            "_view_name": "StyleView",
            "description_width": ""
          }
        },
        "18967d09598d48c594084517f947b961": {
          "model_module": "@jupyter-widgets/controls",
          "model_name": "RadioButtonsModel",
          "model_module_version": "1.5.0",
          "state": {
            "_dom_classes": [],
            "_model_module": "@jupyter-widgets/controls",
            "_model_module_version": "1.5.0",
            "_model_name": "RadioButtonsModel",
            "_options_labels": [
              "Todas as Opções",
              "Maiúsculas",
              "Números",
              "Símbolos"
            ],
            "_view_count": null,
            "_view_module": "@jupyter-widgets/controls",
            "_view_module_version": "1.5.0",
            "_view_name": "RadioButtonsView",
            "description": "Tipo:",
            "description_tooltip": null,
            "disabled": false,
            "index": 3,
            "layout": "IPY_MODEL_ffda606c31a74c948991e2ffd8a8d98b",
            "style": "IPY_MODEL_10d7f223ac5c44d9b68134d84202bd7c"
          }
        },
        "ffda606c31a74c948991e2ffd8a8d98b": {
          "model_module": "@jupyter-widgets/base",
          "model_name": "LayoutModel",
          "model_module_version": "1.2.0",
          "state": {
            "_model_module": "@jupyter-widgets/base",
            "_model_module_version": "1.2.0",
            "_model_name": "LayoutModel",
            "_view_count": null,
            "_view_module": "@jupyter-widgets/base",
            "_view_module_version": "1.2.0",
            "_view_name": "LayoutView",
            "align_content": null,
            "align_items": null,
            "align_self": null,
            "border": null,
            "bottom": null,
            "display": null,
            "flex": null,
            "flex_flow": null,
            "grid_area": null,
            "grid_auto_columns": null,
            "grid_auto_flow": null,
            "grid_auto_rows": null,
            "grid_column": null,
            "grid_gap": null,
            "grid_row": null,
            "grid_template_areas": null,
            "grid_template_columns": null,
            "grid_template_rows": null,
            "height": null,
            "justify_content": null,
            "justify_items": null,
            "left": null,
            "margin": null,
            "max_height": null,
            "max_width": null,
            "min_height": null,
            "min_width": null,
            "object_fit": null,
            "object_position": null,
            "order": null,
            "overflow": null,
            "overflow_x": null,
            "overflow_y": null,
            "padding": null,
            "right": null,
            "top": null,
            "visibility": null,
            "width": null
          }
        },
        "10d7f223ac5c44d9b68134d84202bd7c": {
          "model_module": "@jupyter-widgets/controls",
          "model_name": "DescriptionStyleModel",
          "model_module_version": "1.5.0",
          "state": {
            "_model_module": "@jupyter-widgets/controls",
            "_model_module_version": "1.5.0",
            "_model_name": "DescriptionStyleModel",
            "_view_count": null,
            "_view_module": "@jupyter-widgets/base",
            "_view_module_version": "1.2.0",
            "_view_name": "StyleView",
            "description_width": ""
          }
        },
        "7d0e8ff94a354698bd66292cb46836bd": {
          "model_module": "@jupyter-widgets/controls",
          "model_name": "ButtonModel",
          "model_module_version": "1.5.0",
          "state": {
            "_dom_classes": [],
            "_model_module": "@jupyter-widgets/controls",
            "_model_module_version": "1.5.0",
            "_model_name": "ButtonModel",
            "_view_count": null,
            "_view_module": "@jupyter-widgets/controls",
            "_view_module_version": "1.5.0",
            "_view_name": "ButtonView",
            "button_style": "info",
            "description": "Gerar Senha",
            "disabled": false,
            "icon": "",
            "layout": "IPY_MODEL_5e8803269de047318db0305ac194e109",
            "style": "IPY_MODEL_2ec67c47c9c9444e85c0b924e8ec1667",
            "tooltip": ""
          }
        },
        "5e8803269de047318db0305ac194e109": {
          "model_module": "@jupyter-widgets/base",
          "model_name": "LayoutModel",
          "model_module_version": "1.2.0",
          "state": {
            "_model_module": "@jupyter-widgets/base",
            "_model_module_version": "1.2.0",
            "_model_name": "LayoutModel",
            "_view_count": null,
            "_view_module": "@jupyter-widgets/base",
            "_view_module_version": "1.2.0",
            "_view_name": "LayoutView",
            "align_content": null,
            "align_items": null,
            "align_self": null,
            "border": null,
            "bottom": null,
            "display": null,
            "flex": null,
            "flex_flow": null,
            "grid_area": null,
            "grid_auto_columns": null,
            "grid_auto_flow": null,
            "grid_auto_rows": null,
            "grid_column": null,
            "grid_gap": null,
            "grid_row": null,
            "grid_template_areas": null,
            "grid_template_columns": null,
            "grid_template_rows": null,
            "height": "35px",
            "justify_content": null,
            "justify_items": null,
            "left": null,
            "margin": null,
            "max_height": null,
            "max_width": null,
            "min_height": null,
            "min_width": null,
            "object_fit": null,
            "object_position": null,
            "order": null,
            "overflow": null,
            "overflow_x": null,
            "overflow_y": null,
            "padding": null,
            "right": null,
            "top": null,
            "visibility": null,
            "width": "150px"
          }
        },
        "2ec67c47c9c9444e85c0b924e8ec1667": {
          "model_module": "@jupyter-widgets/controls",
          "model_name": "ButtonStyleModel",
          "model_module_version": "1.5.0",
          "state": {
            "_model_module": "@jupyter-widgets/controls",
            "_model_module_version": "1.5.0",
            "_model_name": "ButtonStyleModel",
            "_view_count": null,
            "_view_module": "@jupyter-widgets/base",
            "_view_module_version": "1.2.0",
            "_view_name": "StyleView",
            "button_color": null,
            "font_weight": ""
          }
        },
        "2a883ef05d744941849dea72566b089f": {
          "model_module": "@jupyter-widgets/controls",
          "model_name": "HTMLModel",
          "model_module_version": "1.5.0",
          "state": {
            "_dom_classes": [],
            "_model_module": "@jupyter-widgets/controls",
            "_model_module_version": "1.5.0",
            "_model_name": "HTMLModel",
            "_view_count": null,
            "_view_module": "@jupyter-widgets/controls",
            "_view_module_version": "1.5.0",
            "_view_name": "HTMLView",
            "description": "",
            "description_tooltip": null,
            "layout": "IPY_MODEL_8595df8d4bb64c7f98005059b40dab01",
            "placeholder": "​",
            "style": "IPY_MODEL_fabc4bc2ec5042d6835c9777e861c250",
            "value": "<div style='font-weight: bold;'>eu-:l'%bf)?t</div>"
          }
        },
        "8595df8d4bb64c7f98005059b40dab01": {
          "model_module": "@jupyter-widgets/base",
          "model_name": "LayoutModel",
          "model_module_version": "1.2.0",
          "state": {
            "_model_module": "@jupyter-widgets/base",
            "_model_module_version": "1.2.0",
            "_model_name": "LayoutModel",
            "_view_count": null,
            "_view_module": "@jupyter-widgets/base",
            "_view_module_version": "1.2.0",
            "_view_name": "LayoutView",
            "align_content": null,
            "align_items": null,
            "align_self": null,
            "border": null,
            "bottom": null,
            "display": null,
            "flex": null,
            "flex_flow": null,
            "grid_area": null,
            "grid_auto_columns": null,
            "grid_auto_flow": null,
            "grid_auto_rows": null,
            "grid_column": null,
            "grid_gap": null,
            "grid_row": null,
            "grid_template_areas": null,
            "grid_template_columns": null,
            "grid_template_rows": null,
            "height": null,
            "justify_content": null,
            "justify_items": null,
            "left": null,
            "margin": null,
            "max_height": null,
            "max_width": null,
            "min_height": null,
            "min_width": null,
            "object_fit": null,
            "object_position": null,
            "order": null,
            "overflow": null,
            "overflow_x": null,
            "overflow_y": null,
            "padding": null,
            "right": null,
            "top": null,
            "visibility": null,
            "width": null
          }
        },
        "fabc4bc2ec5042d6835c9777e861c250": {
          "model_module": "@jupyter-widgets/controls",
          "model_name": "DescriptionStyleModel",
          "model_module_version": "1.5.0",
          "state": {
            "_model_module": "@jupyter-widgets/controls",
            "_model_module_version": "1.5.0",
            "_model_name": "DescriptionStyleModel",
            "_view_count": null,
            "_view_module": "@jupyter-widgets/base",
            "_view_module_version": "1.2.0",
            "_view_name": "StyleView",
            "description_width": ""
          }
        },
        "466d7ba375224bc39d45bdfd45561026": {
          "model_module": "@jupyter-widgets/controls",
          "model_name": "RadioButtonsModel",
          "model_module_version": "1.5.0",
          "state": {
            "_dom_classes": [],
            "_model_module": "@jupyter-widgets/controls",
            "_model_module_version": "1.5.0",
            "_model_name": "RadioButtonsModel",
            "_options_labels": [
              "Fraca",
              "Média",
              "Forte"
            ],
            "_view_count": null,
            "_view_module": "@jupyter-widgets/controls",
            "_view_module_version": "1.5.0",
            "_view_name": "RadioButtonsView",
            "description": "Força:",
            "description_tooltip": null,
            "disabled": false,
            "index": 2,
            "layout": "IPY_MODEL_6c88b7fae4104721a0c2bd2702c2bb72",
            "style": "IPY_MODEL_de31117ce14d40e0b96983fbabea2938"
          }
        },
        "6c88b7fae4104721a0c2bd2702c2bb72": {
          "model_module": "@jupyter-widgets/base",
          "model_name": "LayoutModel",
          "model_module_version": "1.2.0",
          "state": {
            "_model_module": "@jupyter-widgets/base",
            "_model_module_version": "1.2.0",
            "_model_name": "LayoutModel",
            "_view_count": null,
            "_view_module": "@jupyter-widgets/base",
            "_view_module_version": "1.2.0",
            "_view_name": "LayoutView",
            "align_content": null,
            "align_items": null,
            "align_self": null,
            "border": null,
            "bottom": null,
            "display": null,
            "flex": null,
            "flex_flow": null,
            "grid_area": null,
            "grid_auto_columns": null,
            "grid_auto_flow": null,
            "grid_auto_rows": null,
            "grid_column": null,
            "grid_gap": null,
            "grid_row": null,
            "grid_template_areas": null,
            "grid_template_columns": null,
            "grid_template_rows": null,
            "height": null,
            "justify_content": null,
            "justify_items": null,
            "left": null,
            "margin": null,
            "max_height": null,
            "max_width": null,
            "min_height": null,
            "min_width": null,
            "object_fit": null,
            "object_position": null,
            "order": null,
            "overflow": null,
            "overflow_x": null,
            "overflow_y": null,
            "padding": null,
            "right": null,
            "top": null,
            "visibility": null,
            "width": null
          }
        },
        "de31117ce14d40e0b96983fbabea2938": {
          "model_module": "@jupyter-widgets/controls",
          "model_name": "DescriptionStyleModel",
          "model_module_version": "1.5.0",
          "state": {
            "_model_module": "@jupyter-widgets/controls",
            "_model_module_version": "1.5.0",
            "_model_name": "DescriptionStyleModel",
            "_view_count": null,
            "_view_module": "@jupyter-widgets/base",
            "_view_module_version": "1.2.0",
            "_view_name": "StyleView",
            "description_width": ""
          }
        },
        "1f8062fecd104b0ebe7ecab997ecc6da": {
          "model_module": "@jupyter-widgets/controls",
          "model_name": "ButtonModel",
          "model_module_version": "1.5.0",
          "state": {
            "_dom_classes": [],
            "_model_module": "@jupyter-widgets/controls",
            "_model_module_version": "1.5.0",
            "_model_name": "ButtonModel",
            "_view_count": null,
            "_view_module": "@jupyter-widgets/controls",
            "_view_module_version": "1.5.0",
            "_view_name": "ButtonView",
            "button_style": "info",
            "description": "Gerar Senha",
            "disabled": false,
            "icon": "",
            "layout": "IPY_MODEL_1d3a8fb42def4fca9a127127794e7162",
            "style": "IPY_MODEL_0503997934cf4dbe845815e690b3fe00",
            "tooltip": ""
          }
        },
        "1d3a8fb42def4fca9a127127794e7162": {
          "model_module": "@jupyter-widgets/base",
          "model_name": "LayoutModel",
          "model_module_version": "1.2.0",
          "state": {
            "_model_module": "@jupyter-widgets/base",
            "_model_module_version": "1.2.0",
            "_model_name": "LayoutModel",
            "_view_count": null,
            "_view_module": "@jupyter-widgets/base",
            "_view_module_version": "1.2.0",
            "_view_name": "LayoutView",
            "align_content": null,
            "align_items": null,
            "align_self": null,
            "border": null,
            "bottom": null,
            "display": null,
            "flex": null,
            "flex_flow": null,
            "grid_area": null,
            "grid_auto_columns": null,
            "grid_auto_flow": null,
            "grid_auto_rows": null,
            "grid_column": null,
            "grid_gap": null,
            "grid_row": null,
            "grid_template_areas": null,
            "grid_template_columns": null,
            "grid_template_rows": null,
            "height": null,
            "justify_content": null,
            "justify_items": null,
            "left": null,
            "margin": null,
            "max_height": null,
            "max_width": null,
            "min_height": null,
            "min_width": null,
            "object_fit": null,
            "object_position": null,
            "order": null,
            "overflow": null,
            "overflow_x": null,
            "overflow_y": null,
            "padding": null,
            "right": null,
            "top": null,
            "visibility": null,
            "width": null
          }
        },
        "0503997934cf4dbe845815e690b3fe00": {
          "model_module": "@jupyter-widgets/controls",
          "model_name": "ButtonStyleModel",
          "model_module_version": "1.5.0",
          "state": {
            "_model_module": "@jupyter-widgets/controls",
            "_model_module_version": "1.5.0",
            "_model_name": "ButtonStyleModel",
            "_view_count": null,
            "_view_module": "@jupyter-widgets/base",
            "_view_module_version": "1.2.0",
            "_view_name": "StyleView",
            "button_color": null,
            "font_weight": ""
          }
        },
        "3fc1919dfef64d6cb559aaacb39def02": {
          "model_module": "@jupyter-widgets/controls",
          "model_name": "HTMLModel",
          "model_module_version": "1.5.0",
          "state": {
            "_dom_classes": [],
            "_model_module": "@jupyter-widgets/controls",
            "_model_module_version": "1.5.0",
            "_model_name": "HTMLModel",
            "_view_count": null,
            "_view_module": "@jupyter-widgets/controls",
            "_view_module_version": "1.5.0",
            "_view_name": "HTMLView",
            "description": "",
            "description_tooltip": null,
            "layout": "IPY_MODEL_4abbcfcae22045b98506e6d525475ba7",
            "placeholder": "​",
            "style": "IPY_MODEL_8348e29ec20b4e52bebdbd86ab63c115",
            "value": "<div style='font-weight: bold;'>f9Q/3$9ta}Ho</div>"
          }
        },
        "4abbcfcae22045b98506e6d525475ba7": {
          "model_module": "@jupyter-widgets/base",
          "model_name": "LayoutModel",
          "model_module_version": "1.2.0",
          "state": {
            "_model_module": "@jupyter-widgets/base",
            "_model_module_version": "1.2.0",
            "_model_name": "LayoutModel",
            "_view_count": null,
            "_view_module": "@jupyter-widgets/base",
            "_view_module_version": "1.2.0",
            "_view_name": "LayoutView",
            "align_content": null,
            "align_items": null,
            "align_self": null,
            "border": null,
            "bottom": null,
            "display": null,
            "flex": null,
            "flex_flow": null,
            "grid_area": null,
            "grid_auto_columns": null,
            "grid_auto_flow": null,
            "grid_auto_rows": null,
            "grid_column": null,
            "grid_gap": null,
            "grid_row": null,
            "grid_template_areas": null,
            "grid_template_columns": null,
            "grid_template_rows": null,
            "height": null,
            "justify_content": null,
            "justify_items": null,
            "left": null,
            "margin": null,
            "max_height": null,
            "max_width": null,
            "min_height": null,
            "min_width": null,
            "object_fit": null,
            "object_position": null,
            "order": null,
            "overflow": null,
            "overflow_x": null,
            "overflow_y": null,
            "padding": null,
            "right": null,
            "top": null,
            "visibility": null,
            "width": null
          }
        },
        "8348e29ec20b4e52bebdbd86ab63c115": {
          "model_module": "@jupyter-widgets/controls",
          "model_name": "DescriptionStyleModel",
          "model_module_version": "1.5.0",
          "state": {
            "_model_module": "@jupyter-widgets/controls",
            "_model_module_version": "1.5.0",
            "_model_name": "DescriptionStyleModel",
            "_view_count": null,
            "_view_module": "@jupyter-widgets/base",
            "_view_module_version": "1.2.0",
            "_view_name": "StyleView",
            "description_width": ""
          }
        }
      }
    }
  },
  "cells": [
    {
      "cell_type": "markdown",
      "metadata": {
        "id": "view-in-github",
        "colab_type": "text"
      },
      "source": [
        "<a href=\"https://colab.research.google.com/github/ViniciusKanh/FortiCrypt/blob/main/FortiCrypt.ipynb\" target=\"_parent\"><img src=\"https://colab.research.google.com/assets/colab-badge.svg\" alt=\"Open In Colab\"/></a>"
      ]
    },
    {
      "cell_type": "markdown",
      "source": [
        "# FortiCrypt: Avaliador Inteligente de Senhas\n",
        "\n",
        "![header.png](data:image/png;base64,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)"
      ],
      "metadata": {
        "id": "lSfv5tzjm7ut"
      }
    },
    {
      "cell_type": "markdown",
      "source": [
        "\n",
        "# FortiCrypt: Avaliador Inteligente de Senhas\n",
        "\n",
        "## Introdução\n",
        "\n",
        "Neste projeto, exploramos a criação de um modelo de machine learning capaz de avaliar a força de senhas com base em características como comprimento, uso de maiúsculas, números e símbolos. O objetivo é desenvolver uma ferramenta que possa ajudar na criação de senhas fortes e na sensibilização sobre práticas de segurança.\n",
        "\n",
        "## Metodologia\n",
        "\n",
        "Os dados foram obtidos do dataset \"Password Security: Sber Dataset\" disponível no Kaggle. Realizamos pré-processamento, incluindo limpeza de dados, codificação de senhas e extração de características como comprimento da senha, número de caracteres maiúsculos, números e símbolos.\n",
        "\n",
        "## Análise Exploratória de Dados\n",
        "\n",
        "### Visualizações de Dados\n",
        "\n",
        "```python\n",
        "# Exemplo de código para visualização\n",
        "import matplotlib.pyplot as plt\n",
        "import seaborn as sns\n",
        "\n",
        "# Comprimento das senhas por força\n",
        "plt.figure(figsize=(10, 5))\n",
        "sns.boxplot(x='strength', y='length', data=df)\n",
        "plt.title('Comprimento das Senhas por Força')\n",
        "plt.show()\n",
        "```\n",
        "\n",
        "## Modelagem\n",
        "\n",
        "Exploramos vários modelos, incluindo XGBoost, SGDClassifier, Rede Neural e KNeighborsClassifier. Cada modelo foi avaliado com base em métricas como precisão e acuracia.\n",
        "\n",
        "## Avaliação do Modelo\n",
        "\n",
        "### Resultados do Modelo\n",
        "\n",
        "```python\n",
        "# Exemplo de código para avaliação de modelo\n",
        "from sklearn.metrics import classification_report\n",
        "\n",
        "# Avaliação do modelo\n",
        "print(classification_report(y_test, model.predict(X_test)))\n",
        "```\n",
        "\n",
        "## Conclusões\n",
        "\n",
        "Nossas análises indicam que características como comprimento da senha e diversidade de caracteres têm um impacto significativo na força da senha. Os modelos de machine learning demonstraram ser eficazes na classificação da força das senhas.\n",
        "\n",
        "## Recomendações e Trabalho Futuro\n",
        "\n",
        "Recomendamos a inclusão de caracteres especiais e o aumento do comprimento para fortalecer as senhas. Futuramente, podemos explorar a inclusão de mais características, como padrões de caracteres e sequências comuns.\n"
      ],
      "metadata": {
        "id": "QYvSJD3lKrHl"
      }
    },
    {
      "cell_type": "code",
      "execution_count": 2,
      "metadata": {
        "colab": {
          "base_uri": "https://localhost:8080/"
        },
        "id": "9q_LjtbEm316",
        "outputId": "406a382f-126d-4091-c3f1-48db45541d76"
      },
      "outputs": [
        {
          "output_type": "stream",
          "name": "stdout",
          "text": [
            "Mounted at /content/drive\n"
          ]
        }
      ],
      "source": [
        "from google.colab import drive\n",
        "drive.mount('/content/drive')"
      ]
    },
    {
      "cell_type": "markdown",
      "source": [
        "## Importando Bilbiotecas"
      ],
      "metadata": {
        "id": "Jqm0DeL3obhy"
      }
    },
    {
      "cell_type": "code",
      "source": [
        "import pandas as pd\n",
        "import numpy as np\n",
        "\n",
        "import seaborn as sns\n",
        "import matplotlib.pyplot as plt\n",
        "\n",
        "from sklearn.model_selection import cross_val_score\n",
        "from sklearn.model_selection import train_test_split\n",
        "from sklearn.metrics import precision_score, confusion_matrix\n",
        "\n",
        "from xgboost import XGBClassifier, plot_importance\n",
        "from sklearn.linear_model import SGDClassifier\n",
        "from sklearn.neighbors import KNeighborsClassifier"
      ],
      "metadata": {
        "id": "cuXG6avVobC4"
      },
      "execution_count": null,
      "outputs": []
    },
    {
      "cell_type": "markdown",
      "source": [
        "# Pré Processamento dos Dados"
      ],
      "metadata": {
        "id": "ZAHZTSGenH0a"
      }
    },
    {
      "cell_type": "code",
      "source": [
        "import pandas as pd\n",
        "from sklearn.model_selection import train_test_split\n",
        "from sklearn.preprocessing import LabelEncoder\n",
        "\n",
        "# Carregar os dados\n",
        "df = pd.read_csv('/content/drive/My Drive/0-Dataset/FortiCrypt/passwords.csv')\n",
        "\n",
        "# Renomear colunas para facilitar o acesso\n",
        "df.columns = ['password', 'strength']\n",
        "\n",
        "# Remover senhas nulas ou inválidas\n",
        "df.dropna(subset=['password'], inplace=True)\n",
        "\n",
        "# Codificar as senhas (exemplo simples)\n",
        "le = LabelEncoder()\n",
        "df['password_encoded'] = le.fit_transform(df['password'])\n",
        "\n",
        "# Extração de Características\n",
        "df['length'] = df['password'].apply(len)\n",
        "df['num_uppercase'] = df['password'].apply(lambda x: sum(1 for c in x if c.isupper()))\n",
        "df['num_numbers'] = df['password'].apply(lambda x: sum(1 for c in x if c.isdigit()))\n",
        "df['num_symbols'] = df['password'].apply(lambda x: sum(1 for c in x if not c.isalnum()))\n",
        "\n",
        "# Visualizar os dados após o pré-processamento\n",
        "print(df.head())\n",
        "\n",
        "# Divisão dos dados\n",
        "X = df[['password_encoded', 'length', 'num_uppercase', 'num_numbers', 'num_symbols']]\n",
        "y = df['strength']\n",
        "X_train, X_test, y_train, y_test = train_test_split(X, y, test_size=0.2, random_state=42)\n"
      ],
      "metadata": {
        "colab": {
          "base_uri": "https://localhost:8080/"
        },
        "id": "eBqC_G1On_qC",
        "outputId": "67b30d7f-d507-4bb7-d76f-12e2771e1ced"
      },
      "execution_count": 4,
      "outputs": [
        {
          "output_type": "stream",
          "name": "stdout",
          "text": [
            "           password  strength  password_encoded  length  num_uppercase  \\\n",
            "0        yrtzuab476         1             97207      10              0   \n",
            "1  yEdnN9jc1NgzkkBP         2             95330      16              5   \n",
            "2          sarita99         1             79160       8              0   \n",
            "3    Suramerica2015         2             17776      14              1   \n",
            "4  PPRbMvDIxMQ19TMo         2             16964      16             10   \n",
            "\n",
            "   num_numbers  num_symbols  \n",
            "0            3            0  \n",
            "1            2            0  \n",
            "2            2            0  \n",
            "3            4            0  \n",
            "4            2            0  \n"
          ]
        }
      ]
    },
    {
      "cell_type": "code",
      "source": [
        "plt.figure(figsize=(3, 3))\n",
        "plt.title('Class distribution')\n",
        "sns.countplot(x='strength', data=df);"
      ],
      "metadata": {
        "colab": {
          "base_uri": "https://localhost:8080/",
          "height": 333
        },
        "id": "VY-lKFb4oKER",
        "outputId": "42ed3d3f-6fbf-49c5-88b7-a3122659b9c5"
      },
      "execution_count": null,
      "outputs": [
        {
          "output_type": "display_data",
          "data": {
            "text/plain": [
              "<Figure size 300x300 with 1 Axes>"
            ],
            "image/png": "[encoded data removed]"
          },
          "metadata": {}
        }
      ]
    },
    {
      "cell_type": "markdown",
      "source": [
        "## Análise de Resultados do Conjunto de Dados de Senhas\n",
        "\n",
        "A tabela a seguir apresenta uma amostra dos dados processados do conjunto de dados de senhas:\n",
        "\n",
        "|   | password         | strength | password_encoded | length | num_uppercase | num_numbers | num_symbols |\n",
        "|---|------------------|----------|------------------|--------|---------------|-------------|-------------|\n",
        "| 0 | yrtzuab476       | 1        | 97207            | 10     | 0             | 3           | 0           |\n",
        "| 1 | yEdnN9jc1NgzkkBP | 2        | 95330            | 16     | 5             | 2           | 0           |\n",
        "| 2 | sarita99         | 1        | 79160            | 8      | 0             | 2           | 0           |\n",
        "| 3 | Suramerica2015   | 2        | 17776            | 14     | 1             | 4           | 0           |\n",
        "| 4 | PPRbMvDIxMQ19TMo | 2        | 16964            | 16     | 10            | 2           | 0           |\n",
        "\n",
        "### Observações:\n",
        "\n",
        "- **Diversidade de Caracteres**:\n",
        "  - A senha `yEdnN9jc1NgzkkBP` apresenta uma alta diversidade de caracteres com 5 letras maiúsculas e 2 números, contribuindo para a sua classificação como uma senha de força `2` (muito confiável).\n",
        "  - A senha `PPRbMvDIxMQ19TMo`, com a mesma força de `2`, possui uma notável combinação de 10 letras maiúsculas e 2 números, indicando um alto nível de complexidade.\n",
        "\n",
        "- **Comprimento da Senha**:\n",
        "  - As senhas com força `2` têm um comprimento de `16` caracteres, o que é superior ao comprimento médio das senhas mais fracas.\n",
        "  - A senha mais curta, `sarita99`, tem apenas `8` caracteres e é classificada com uma força `1` (moderadamente confiável).\n",
        "\n",
        "- **Presença de Números e Símbolos**:\n",
        "  - Cada senha na amostra contém pelo menos `2` números, mas nenhum símbolo. Isso pode ser uma área a ser explorada para aumentar a segurança, adicionando caracteres especiais.\n",
        "\n",
        "### Conclusões:\n",
        "\n",
        "Os dados indicam uma correlação entre a complexidade da senha (incluindo comprimento, uso de maiúsculas e números) e a sua classificação de força. Senhas classificadas como mais seguras tendem a ser mais longas e ter uma mistura mais diversa de caracteres. No entanto, a ausência de símbolos em todas as amostras sugere que a inclusão de caracteres especiais poderia ser incentivada para melhorar a segurança geral das senhas.\n",
        "\n",
        "### Recomendações:\n",
        "\n",
        "- **Incentivar o Uso de Caracteres Especiais**: Embora números e letras maiúsculas estejam presentes, a introdução de símbolos poderia fortalecer significativamente a segurança das senhas.\n",
        "- **Promover Senhas Mais Longas**: Educar os usuários sobre a importância do comprimento da senha pode ser benéfico, já que as senhas mais seguras tendem a ser mais extensas.\n",
        "- **Análise de Padrões**: Investigar padrões comuns ou sequências de caracteres que podem ser explorados por ataques de força bruta.\n",
        "\n",
        "Este relatório ressalta a importância de uma senha forte e as características que contribuem para a sua segurança.\n"
      ],
      "metadata": {
        "id": "Ne5_0C0NopNc"
      }
    },
    {
      "cell_type": "markdown",
      "source": [
        "# Analise Exploratoria dos Dados"
      ],
      "metadata": {
        "id": "Hfhr__h8pLOm"
      }
    },
    {
      "cell_type": "code",
      "source": [
        "import pandas as pd\n",
        "import matplotlib.pyplot as plt\n",
        "import seaborn as sns\n",
        "\n",
        "\n",
        "# Análise básica de estatísticas\n",
        "print(df.describe())\n",
        "\n",
        "# Comprimento das senhas por força\n",
        "plt.figure(figsize=(10, 5))\n",
        "sns.boxplot(x='strength', y='length', data=df)\n",
        "plt.title('Comprimento das Senhas por Força')\n",
        "plt.xlabel('Força da Senha')\n",
        "plt.ylabel('Comprimento da Senha')\n",
        "plt.show()\n",
        "\n",
        "# Número de caracteres maiúsculos, números e símbolos por força\n",
        "fig, axes = plt.subplots(1, 3, figsize=(18, 5))\n",
        "\n",
        "sns.boxplot(ax=axes[0], x='strength', y='num_uppercase', data=df)\n",
        "axes[0].set_title('Número de Maiúsculas por Força da Senha')\n",
        "axes[0].set_xlabel('Força da Senha')\n",
        "axes[0].set_ylabel('Número de Maiúsculas')\n",
        "\n",
        "sns.boxplot(ax=axes[1], x='strength', y='num_numbers', data=df)\n",
        "axes[1].set_title('Número de Números por Força da Senha')\n",
        "axes[1].set_xlabel('Força da Senha')\n",
        "axes[1].set_ylabel('Número de Números')\n",
        "\n",
        "sns.boxplot(ax=axes[2], x='strength', y='num_symbols', data=df)\n",
        "axes[2].set_title('Número de Símbolos por Força da Senha')\n",
        "axes[2].set_xlabel('Força da Senha')\n",
        "axes[2].set_ylabel('Número de Símbolos')\n",
        "\n",
        "plt.tight_layout()\n",
        "plt.show()\n",
        "\n",
        "# Correlação entre características\n",
        "plt.figure(figsize=(10, 8))\n",
        "sns.heatmap(df.corr(), annot=True, fmt='.2f', cmap='coolwarm')\n",
        "plt.title('Matriz de Correlação entre Características')\n",
        "plt.show()\n"
      ],
      "metadata": {
        "colab": {
          "base_uri": "https://localhost:8080/",
          "height": 1000
        },
        "id": "o73rjs_gor0N",
        "outputId": "9c9a7135-8dd1-428b-9340-f53823d924ee"
      },
      "execution_count": null,
      "outputs": [
        {
          "output_type": "stream",
          "name": "stdout",
          "text": [
            "            strength  password_encoded         length  num_uppercase  \\\n",
            "count  100000.000000     100000.000000  100000.000000  100000.000000   \n",
            "mean        0.988660      49999.500000       9.975540       0.789520   \n",
            "std         0.507044      28867.657797       2.766384       2.276895   \n",
            "min         0.000000          0.000000       1.000000       0.000000   \n",
            "25%         1.000000      24999.750000       8.000000       0.000000   \n",
            "50%         1.000000      49999.500000       9.000000       0.000000   \n",
            "75%         1.000000      74999.250000      11.000000       0.000000   \n",
            "max         2.000000      99999.000000      45.000000      19.000000   \n",
            "\n",
            "        num_numbers    num_symbols  \n",
            "count  100000.00000  100000.000000  \n",
            "mean        3.18047       0.046060  \n",
            "std         1.99945       0.334215  \n",
            "min         0.00000       0.000000  \n",
            "25%         2.00000       0.000000  \n",
            "50%         3.00000       0.000000  \n",
            "75%         4.00000       0.000000  \n",
            "max        22.00000      13.000000  \n"
          ]
        },
        {
          "output_type": "display_data",
          "data": {
            "text/plain": [
              "<Figure size 1000x500 with 1 Axes>"
            ],
            "image/png": "[encoded data removed]"
          },
          "metadata": {}
        },
        {
          "output_type": "display_data",
          "data": {
            "text/plain": [
              "<Figure size 1800x500 with 3 Axes>"
            ],
            "image/png": "[encoded data removed]"
          },
          "metadata": {}
        },
        {
          "output_type": "stream",
          "name": "stderr",
          "text": [
            "<ipython-input-12-7dd1012858bb>:40: FutureWarning: The default value of numeric_only in DataFrame.corr is deprecated. In a future version, it will default to False. Select only valid columns or specify the value of numeric_only to silence this warning.\n",
            "  sns.heatmap(df.corr(), annot=True, fmt='.2f', cmap='coolwarm')\n"
          ]
        },
        {
          "output_type": "display_data",
          "data": {
            "text/plain": [
              "<Figure size 1000x800 with 2 Axes>"
            ],
            "image/png": "[encoded data removed]"
          },
          "metadata": {}
        }
      ]
    },
    {
      "cell_type": "markdown",
      "source": [
        "## Análise dos Boxplots das Características das Senhas\n",
        "\n",
        "Os boxplots abaixo representam a distribuição do número de maiúsculas, números e símbolos em senhas classificadas por força (0, 1 e 2).\n",
        "\n",
        "### Número de Maiúsculas por Força da Senha\n",
        "\n",
        "![Número de Maiúsculas por Força da Senha](https://drive.google.com/uc?export=view&id=1GRiw55elIrOC6WxsTiH34Hze5vf3-rBm)\n",
        "\n",
        "\n",
        "- **Força 0**: Maior parte das senhas possui poucas ou nenhuma letra maiúscula, com poucos outliers indicando um número maior de maiúsculas.\n",
        "- **Força 1**: Distribuição semelhante à força 0, mas com ligeiramente mais outliers, sugerindo uma variação maior no uso de maiúsculas.\n",
        "- **Força 2**: Observa-se uma maior quantidade de maiúsculas nas senhas, indicando que o uso de letras maiúsculas é uma característica comum em senhas consideradas fortes.\n",
        "\n",
        "### Número de Números por Força da Senha\n",
        "\n",
        "![Número de Números por Força da Senha](https://drive.google.com/uc?export=view&id=1GXt5lCirMQD4tTIXTCz3MFXOpYz6vFDF)\n",
        "\n",
        "- **Força 0**: A maioria das senhas contém poucos números, com uma distribuição compacta e alguns outliers.\n",
        "- **Força 1**: Aumento no número de senhas com maior quantidade de dígitos, embora a mediana esteja próxima de força 0.\n",
        "- **Força 2**: Há um aumento notável na presença de números, o que sugere que senhas mais seguras tendem a incluir mais dígitos.\n",
        "\n",
        "### Número de Símbolos por Força da Senha\n",
        "\n",
        "![Número de Símbolos por Força da Senha](https://drive.google.com/uc?export=view&id=1GSbdZ9V2WTIzcbBWY0oXa39KpM6S4ElK)\n",
        "\n",
        "- **Força 0**: Muito poucos símbolos são usados nas senhas mais fracas, com uma mediana em 0.\n",
        "- **Força 1**: Observa-se um padrão semelhante ao de força 0, com uma ligeira presença de outliers.\n",
        "- **Força 2**: Apesar de alguns outliers com um número maior de símbolos, a maioria ainda tem uma contagem baixa, o que pode indicar uma oportunidade de melhoria na criação de senhas fortes.\n",
        "\n",
        "### Insights Gerais\n",
        "\n",
        "- A presença de letras maiúsculas e números aumenta com a força da senha, o que é consistente com as práticas recomendadas de segurança de senha.\n",
        "- Os símbolos são notavelmente ausentes em todas as categorias de força, o que pode ser uma área de melhoria para aumentar a segurança das senhas.\n",
        "- As senhas mais seguras não necessariamente utilizam uma grande quantidade de símbolos, o que pode indicar que outros fatores como comprimento da senha e complexidade também são importantes.\n",
        "- As senhas de força intermediária (1) não mostram uma diferença significativa em relação às senhas fracas (0) em termos de caracteres especiais, sugerindo que essa categoria pode não estar aproveitando plenamente as práticas recomendadas de segurança.\n",
        "\n",
        "### Conclusões e Recomendações\n",
        "\n",
        "- **Recomenda-se incentivar o uso de símbolos** nas senhas, além de letras maiúsculas e números, para todas as categorias de força.\n",
        "- **Políticas de senha** podem ser revisadas para garantir que as senhas de força intermediária e alta incluam uma combinação diversificada de caracteres, aumentando assim a segurança geral.\n"
      ],
      "metadata": {
        "id": "Ocf9oZV5qbxX"
      }
    },
    {
      "cell_type": "markdown",
      "source": [
        "## Análise da Matriz de Correlação entre Características das Senhas\n",
        "\n",
        "A matriz de correlação a seguir fornece insights sobre as relações entre diferentes características das senhas:\n",
        "\n",
        "![Matriz de Correlação entre Características](https://drive.google.com/uc?export=view&id=1GYPYQjE-lGFP8gesjpISOf30Stz6KwY3)\n",
        "\n",
        "### Pontos Chave:\n",
        "\n",
        "- **Força da Senha e Comprimento (`strength` vs `length`)**:\n",
        "  - Há uma forte correlação positiva de `0.85`, indicando que, conforme o comprimento da senha aumenta, sua força tende a aumentar também.\n",
        "\n",
        "- **Força da Senha e Letras Maiúsculas (`strength` vs `num_uppercase`)**:\n",
        "  - Uma correlação positiva de `0.62` sugere que o uso de letras maiúsculas contribui significativamente para a força da senha.\n",
        "\n",
        "- **Comprimento da Senha e Letras Maiúsculas (`length` vs `num_uppercase`)**:\n",
        "  - Com uma correlação de `0.67`, pode-se inferir que senhas mais longas muitas vezes incluem mais letras maiúsculas.\n",
        "\n",
        "- **Números e Símbolos (`num_numbers` vs `num_symbols`)**:\n",
        "  - Uma correlação próxima de zero (`0.01`) indica que não há uma relação linear direta entre o número de dígitos e o número de símbolos em uma senha.\n",
        "\n",
        "- **Codificação da Senha (`password_encoded`)**:\n",
        "  - Esta característica mostra pouca ou nenhuma correlação com outras características, o que é esperado, pois é uma codificação arbitrária das senhas.\n",
        "\n",
        "### Conclusões:\n",
        "\n",
        "- As correlações destacam a importância do comprimento e da variedade de caracteres (incluindo maiúsculas) na força percebida de uma senha.\n",
        "- A presença de números não está fortemente correlacionada com a força da senha, o que pode indicar que simplesmente adicionar números não é suficiente para aumentar significativamente a segurança.\n",
        "- A baixa correlação entre o uso de símbolos e outras características sugere que os símbolos são subutilizados nas senhas, apesar de seu potencial para aumentar a força das senhas.\n",
        "\n",
        "### Recomendações:\n",
        "\n",
        "- **Fortalecer Políticas de Senha**: Encorajar o uso equilibrado de letras maiúsculas, números e símbolos.\n",
        "- **Educação de Usuários**: Conscientizar os usuários sobre a importância de senhas longas e complexas para segurança online.\n",
        "- **Análise Adicional**: Investigar por que os símbolos não são comumente usados e desenvolver estratégias para sua inclusão efetiva em novas políticas de senha.\n",
        "\n"
      ],
      "metadata": {
        "id": "bTRcH52zrh22"
      }
    },
    {
      "cell_type": "markdown",
      "source": [
        "# Escolhendo o Melhor modelo"
      ],
      "metadata": {
        "id": "06UpeGKrtVj3"
      }
    },
    {
      "cell_type": "markdown",
      "source": [
        "## Importando Bibliotecas"
      ],
      "metadata": {
        "id": "fnxc2V5ULToe"
      }
    },
    {
      "cell_type": "code",
      "source": [
        "import numpy as np\n",
        "import pandas as pd\n",
        "from sklearn.model_selection import train_test_split\n",
        "from sklearn.preprocessing import StandardScaler\n",
        "from sklearn.metrics import accuracy_score, precision_score\n",
        "from sklearn.linear_model import SGDClassifier\n",
        "from sklearn.neighbors import KNeighborsClassifier\n",
        "from sklearn.ensemble import RandomForestClassifier\n",
        "from xgboost import XGBClassifier\n",
        "from keras.models import Sequential\n",
        "from keras.layers import Dense\n"
      ],
      "metadata": {
        "id": "SeHyul7ut0V6"
      },
      "execution_count": 1,
      "outputs": []
    },
    {
      "cell_type": "markdown",
      "source": [
        "## Preparação dos Dados"
      ],
      "metadata": {
        "id": "KvF3qNYoLZG_"
      }
    },
    {
      "cell_type": "code",
      "source": [
        "# Divisão dos dados em características e rótulos\n",
        "X = df[['length', 'num_uppercase', 'num_numbers', 'num_symbols']]\n",
        "y = df['strength']\n",
        "\n",
        "# Divisão em conjuntos de treino e teste\n",
        "X_train, X_test, y_train, y_test = train_test_split(X, y, test_size=0.2, random_state=42)\n",
        "\n",
        "# Normalização dos dados\n",
        "scaler = StandardScaler()\n",
        "X_train_scaled = scaler.fit_transform(X_train)\n",
        "X_test_scaled = scaler.transform(X_test)\n"
      ],
      "metadata": {
        "id": "OadAlqMCLZiJ"
      },
      "execution_count": 5,
      "outputs": []
    },
    {
      "cell_type": "markdown",
      "source": [
        "## Modelos e Avaliação"
      ],
      "metadata": {
        "id": "B5F06SH-Lsvh"
      }
    },
    {
      "cell_type": "markdown",
      "source": [
        "### XGBoost Classifier"
      ],
      "metadata": {
        "id": "wF513LIHLtqj"
      }
    },
    {
      "cell_type": "code",
      "source": [
        "xgb_model = XGBClassifier(random_state=42)\n",
        "xgb_model.fit(X_train_scaled, y_train)\n",
        "xgb_pred = xgb_model.predict(X_test_scaled)\n",
        "print(\"XGBoost - Acurácia:\", accuracy_score(y_test, xgb_pred), \"Precisão:\", precision_score(y_test, xgb_pred, average='weighted'))\n"
      ],
      "metadata": {
        "colab": {
          "base_uri": "https://localhost:8080/"
        },
        "id": "aCdmce18Lvz1",
        "outputId": "5cbf89e1-4999-4d83-e82e-3713da0e18bd"
      },
      "execution_count": 6,
      "outputs": [
        {
          "output_type": "stream",
          "name": "stdout",
          "text": [
            "XGBoost - Acurácia: 1.0 Precisão: 1.0\n"
          ]
        }
      ]
    },
    {
      "cell_type": "markdown",
      "source": [
        "### SGD Classifier"
      ],
      "metadata": {
        "id": "a6uZNQJ6L063"
      }
    },
    {
      "cell_type": "code",
      "source": [
        "sgd_model = SGDClassifier(random_state=42)\n",
        "sgd_model.fit(X_train_scaled, y_train)\n",
        "sgd_pred = sgd_model.predict(X_test_scaled)\n",
        "print(\"SGD Classifier - Acurácia:\", accuracy_score(y_test, sgd_pred), \"Precisão:\", precision_score(y_test, sgd_pred, average='weighted'))\n"
      ],
      "metadata": {
        "colab": {
          "base_uri": "https://localhost:8080/"
        },
        "id": "Z_HQ3OiQL19C",
        "outputId": "0d9efc69-5535-4e66-f291-0a47193da27e"
      },
      "execution_count": 7,
      "outputs": [
        {
          "output_type": "stream",
          "name": "stdout",
          "text": [
            "SGD Classifier - Acurácia: 0.9897 Precisão: 0.9899466897333956\n"
          ]
        }
      ]
    },
    {
      "cell_type": "markdown",
      "source": [
        "### KNeighbors Classifier"
      ],
      "metadata": {
        "id": "EqLJd8f0L56L"
      }
    },
    {
      "cell_type": "code",
      "source": [
        "knn_model = KNeighborsClassifier()\n",
        "knn_model.fit(X_train_scaled, y_train)\n",
        "knn_pred = knn_model.predict(X_test_scaled)\n",
        "print(\"KNeighbors - Acurácia:\", accuracy_score(y_test, knn_pred), \"Precisão:\", precision_score(y_test, knn_pred, average='weighted'))\n"
      ],
      "metadata": {
        "colab": {
          "base_uri": "https://localhost:8080/"
        },
        "id": "bm4mthDiL69Z",
        "outputId": "b8efe457-a484-4fb0-e164-11aea4cb3829"
      },
      "execution_count": 8,
      "outputs": [
        {
          "output_type": "stream",
          "name": "stdout",
          "text": [
            "KNeighbors - Acurácia: 0.99955 Precisão: 0.9995500680560219\n"
          ]
        }
      ]
    },
    {
      "cell_type": "markdown",
      "source": [
        "### Rede Neural Simples"
      ],
      "metadata": {
        "id": "P320ARSML-fv"
      }
    },
    {
      "cell_type": "code",
      "source": [
        "# Definição da rede neural\n",
        "nn_model = Sequential()\n",
        "nn_model.add(Dense(10, input_dim=X_train_scaled.shape[1], activation='relu'))\n",
        "nn_model.add(Dense(3, activation='softmax')) # 3 classes de saída\n",
        "\n",
        "# Compilação do modelo\n",
        "nn_model.compile(loss='sparse_categorical_crossentropy', optimizer='adam', metrics=['accuracy'])\n",
        "\n",
        "# Treinamento do modelo\n",
        "nn_model.fit(X_train_scaled, y_train, epochs=10, batch_size=10)\n",
        "\n",
        "# Avaliação do modelo\n",
        "nn_loss, nn_accuracy = nn_model.evaluate(X_test_scaled, y_test)\n",
        "print(\"Rede Neural - Acurácia:\", nn_accuracy)"
      ],
      "metadata": {
        "colab": {
          "base_uri": "https://localhost:8080/"
        },
        "id": "FrzUZ0gaL-19",
        "outputId": "8ca1a929-57e1-41f0-cf67-cf8d6368d8fb"
      },
      "execution_count": 9,
      "outputs": [
        {
          "output_type": "stream",
          "name": "stdout",
          "text": [
            "Epoch 1/10\n",
            "8000/8000 [==============================] - 36s 4ms/step - loss: 0.1200 - accuracy: 0.9663\n",
            "Epoch 2/10\n",
            "8000/8000 [==============================] - 22s 3ms/step - loss: 0.0056 - accuracy: 0.9994\n",
            "Epoch 3/10\n",
            "8000/8000 [==============================] - 17s 2ms/step - loss: 0.0018 - accuracy: 0.9998\n",
            "Epoch 4/10\n",
            "8000/8000 [==============================] - 16s 2ms/step - loss: 8.6947e-04 - accuracy: 0.9999\n",
            "Epoch 5/10\n",
            "8000/8000 [==============================] - 17s 2ms/step - loss: 4.3973e-04 - accuracy: 1.0000\n",
            "Epoch 6/10\n",
            "8000/8000 [==============================] - 17s 2ms/step - loss: 2.6104e-04 - accuracy: 1.0000\n",
            "Epoch 7/10\n",
            "8000/8000 [==============================] - 18s 2ms/step - loss: 2.2372e-04 - accuracy: 0.9999\n",
            "Epoch 8/10\n",
            "8000/8000 [==============================] - 17s 2ms/step - loss: 2.1596e-04 - accuracy: 1.0000\n",
            "Epoch 9/10\n",
            "8000/8000 [==============================] - 21s 3ms/step - loss: 1.3706e-04 - accuracy: 1.0000\n",
            "Epoch 10/10\n",
            "8000/8000 [==============================] - 16s 2ms/step - loss: 1.1734e-04 - accuracy: 0.9999\n",
            "625/625 [==============================] - 2s 2ms/step - loss: 9.6231e-05 - accuracy: 0.9999\n",
            "Rede Neural - Acurácia: 0.9999499917030334\n"
          ]
        }
      ]
    },
    {
      "cell_type": "markdown",
      "source": [
        "### RandomForest Classifier"
      ],
      "metadata": {
        "id": "_MR7ACXnMDoX"
      }
    },
    {
      "cell_type": "code",
      "source": [
        "rf_model = RandomForestClassifier(random_state=42)\n",
        "rf_model.fit(X_train_scaled, y_train)\n",
        "rf_pred = rf_model.predict(X_test_scaled)\n",
        "print(\"RandomForest - Acurácia:\", accuracy_score(y_test, rf_pred), \"Precisão:\", precision_score(y_test, rf_pred, average='weighted'))\n"
      ],
      "metadata": {
        "colab": {
          "base_uri": "https://localhost:8080/"
        },
        "id": "A0e8GS8qMFiq",
        "outputId": "e1ace333-dfad-4748-d676-88d041aeec6d"
      },
      "execution_count": 10,
      "outputs": [
        {
          "output_type": "stream",
          "name": "stdout",
          "text": [
            "RandomForest - Acurácia: 1.0 Precisão: 1.0\n"
          ]
        }
      ]
    },
    {
      "cell_type": "markdown",
      "source": [
        "# Análise Comparativa dos Modelos de Machine Learning\n",
        "\n",
        "## Resultados Obtidos\n",
        "\n",
        "Os modelos testados e suas respectivas métricas de desempenho são:\n",
        "\n",
        "- **XGBoost**\n",
        "  - Acurácia: 1.0\n",
        "  - Precisão: 1.0\n",
        "- **SGD Classifier**\n",
        "  - Acurácia: 0.9897\n",
        "  - Precisão: 0.9899\n",
        "- **KNeighbors**\n",
        "  - Acurácia: 0.99955\n",
        "  - Precisão: 0.99955\n",
        "- **Rede Neural**\n",
        "  - Acurácia: 0.99995\n",
        "- **RandomForest**\n",
        "  - Acurácia: 1.0\n",
        "  - Precisão: 1.0\n",
        "\n",
        "## Análise dos Modelos\n",
        "\n",
        "### XGBoost\n",
        "\n",
        "#### Características\n",
        "- Algoritmo baseado em gradient boosting, eficaz para conjuntos de dados grandes e complexos.\n",
        "- Boa capacidade de lidar com características não lineares e interações entre elas.\n",
        "\n",
        "#### Pontos Fortes\n",
        "- Alto desempenho e precisão.\n",
        "- Boa generalização em diversos tipos de dados.\n",
        "\n",
        "#### Pontos Fracos\n",
        "- Pode ser propenso a overfitting se não for bem regulado.\n",
        "\n",
        "### SGD Classifier\n",
        "\n",
        "#### Características\n",
        "- Baseado em gradiente descendente estocástico, bom para dados de alta dimensão.\n",
        "- Rápido e eficiente em termos de memória.\n",
        "\n",
        "#### Pontos Fortes\n",
        "- Bom para grandes conjuntos de dados.\n",
        "- Rápido e escalável.\n",
        "\n",
        "#### Pontos Fracos\n",
        "- Sensível à escala dos recursos e requer ajuste cuidadoso dos hiperparâmetros.\n",
        "\n",
        "### KNeighbors\n",
        "\n",
        "#### Características\n",
        "- Algoritmo baseado em instância, simples e intuitivo.\n",
        "- Baseia-se na proximidade das amostras de dados.\n",
        "\n",
        "#### Pontos Fortes\n",
        "- Não requer treinamento.\n",
        "- Funciona bem com um número pequeno de dimensões.\n",
        "\n",
        "#### Pontos Fracos\n",
        "- Não escala bem com um grande número de amostras.\n",
        "- Sensível a dados ruidosos e características irrelevantes.\n",
        "\n",
        "### Rede Neural\n",
        "\n",
        "#### Características\n",
        "- Baseada em redes neurais artificiais, flexível e poderosa.\n",
        "- Capaz de aprender padrões complexos e não lineares.\n",
        "\n",
        "#### Pontos Fortes\n",
        "- Altamente flexível e capaz de modelar complexidades complexas.\n",
        "- Bom desempenho em uma variedade de tarefas de classificação.\n",
        "\n",
        "#### Pontos Fracos\n",
        "- Requer um grande volume de dados para treinamento eficaz.\n",
        "- Mais difícil de interpretar e requer ajuste de hiperparâmetros.\n",
        "\n",
        "### RandomForest\n",
        "\n",
        "#### Características\n",
        "- Baseado em árvores de decisão múltiplas, oferece boa performance e simplicidade.\n",
        "- Bom para dados com muitas características e classes.\n",
        "\n",
        "#### Pontos Fortes\n",
        "- Robusto a overfitting e dados ruidosos.\n",
        "- Boa capacidade de generalização.\n",
        "\n",
        "#### Pontos Fracos\n",
        "- Menos eficiente em termos de memória e tempo de treinamento para grandes conjuntos de dados.\n",
        "\n",
        "## Conclusão e Recomendação\n",
        "\n",
        "Dado o alto desempenho de modelos como **XGBoost** e **RandomForest**, ambos com acurácia e precisão perfeitas (1.0), eles emergem como os candidatos mais promissores para este projeto. A escolha entre eles pode depender de fatores adicionais como tamanho do conjunto de dados, necessidade de interpretabilidade e recursos computacionais disponíveis.\n",
        "\n",
        "Para conjuntos de dados grandes e com a necessidade de capturar interações complexas entre as características, o **XGBoost** pode ser mais adequado. Para um modelo mais robusto a dados ruidosos e com boa generalização, o **RandomForest** pode ser preferível.\n",
        "\n"
      ],
      "metadata": {
        "id": "n0VVH0NfNJDr"
      }
    },
    {
      "cell_type": "markdown",
      "source": [
        "# Ajuste Fino e Validação Cruzada dos Modelos XGBoost e RandomForest\n",
        "\n",
        "## XGBoost - Ajuste de Hiperparâmetros e Validação Cruzada"
      ],
      "metadata": {
        "id": "jQmsoNFNNmBp"
      }
    },
    {
      "cell_type": "code",
      "source": [
        "from sklearn.model_selection import GridSearchCV\n",
        "from xgboost import XGBClassifier\n",
        "\n",
        "# Definindo os hiperparâmetros para teste\n",
        "param_grid_xgb = {\n",
        "    'n_estimators': [50, 100, 200],\n",
        "    'max_depth': [3, 5, 7],\n",
        "    'learning_rate': [0.01, 0.1, 0.2]\n",
        "}\n",
        "\n",
        "# Instanciando o modelo\n",
        "xgb = XGBClassifier(random_state=42)\n",
        "\n",
        "# GridSearchCV\n",
        "grid_search_xgb = GridSearchCV(estimator=xgb, param_grid=param_grid_xgb, cv=5, scoring='accuracy', n_jobs=-1)\n",
        "grid_search_xgb.fit(X_train_scaled, y_train)\n",
        "\n",
        "# Melhores parâmetros e pontuação\n",
        "print(\"Melhores Parâmetros:\", grid_search_xgb.best_params_)\n",
        "print(\"Melhor Acurácia:\", grid_search_xgb.best_score_)"
      ],
      "metadata": {
        "colab": {
          "base_uri": "https://localhost:8080/"
        },
        "id": "Z8NUAk4sNjqT",
        "outputId": "eef45de6-41cc-49b9-d1ce-895f077841b2"
      },
      "execution_count": 11,
      "outputs": [
        {
          "output_type": "stream",
          "name": "stdout",
          "text": [
            "Melhores Parâmetros: {'learning_rate': 0.01, 'max_depth': 3, 'n_estimators': 50}\n",
            "Melhor Acurácia: 1.0\n"
          ]
        }
      ]
    },
    {
      "cell_type": "markdown",
      "source": [
        "## RandomForest - Ajuste de Hiperparâmetros e Validação Cruzada\n"
      ],
      "metadata": {
        "id": "FlYzz5uuNopx"
      }
    },
    {
      "cell_type": "code",
      "source": [
        "from sklearn.ensemble import RandomForestClassifier\n",
        "\n",
        "# Definindo os hiperparâmetros para teste\n",
        "param_grid_rf = {\n",
        "    'n_estimators': [50, 100, 200],\n",
        "    'max_depth': [3, 5, 7],\n",
        "    'min_samples_split': [2, 5, 10]\n",
        "}\n",
        "\n",
        "# Instanciando o modelo\n",
        "rf = RandomForestClassifier(random_state=42)\n",
        "\n",
        "# GridSearchCV\n",
        "grid_search_rf = GridSearchCV(estimator=rf, param_grid=param_grid_rf, cv=5, scoring='accuracy', n_jobs=-1)\n",
        "grid_search_rf.fit(X_train_scaled, y_train)\n",
        "\n",
        "# Melhores parâmetros e pontuação\n",
        "print(\"Melhores Parâmetros:\", grid_search_rf.best_params_)\n",
        "print(\"Melhor Acurácia:\", grid_search_rf.best_score_)\n"
      ],
      "metadata": {
        "colab": {
          "base_uri": "https://localhost:8080/"
        },
        "id": "N_l4Ox-rNpf8",
        "outputId": "488da4c2-e4a1-4be0-f9e5-11eb29cd5fe9"
      },
      "execution_count": 12,
      "outputs": [
        {
          "output_type": "stream",
          "name": "stdout",
          "text": [
            "Melhores Parâmetros: {'max_depth': 3, 'min_samples_split': 2, 'n_estimators': 50}\n",
            "Melhor Acurácia: 1.0\n"
          ]
        }
      ]
    },
    {
      "cell_type": "markdown",
      "source": [
        "# Análise Comparativa dos Modelos XGBoost e RandomForest\n",
        "\n",
        "## Resultados Após Ajuste de Hiperparâmetros\n",
        "\n",
        "Os modelos foram ajustados e os melhores parâmetros encontrados são:\n",
        "\n",
        "- **XGBoost**\n",
        "  - Melhores Parâmetros: {'learning_rate': 0.01, 'max_depth': 3, 'n_estimators': 50}\n",
        "  - Melhor Acurácia: 1.0\n",
        "\n",
        "- **RandomForest**\n",
        "  - Melhores Parâmetros: {'max_depth': 3, 'min_samples_split': 2, 'n_estimators': 50}\n",
        "  - Melhor Acurácia: 1.0\n",
        "\n",
        "## Análise dos Modelos\n",
        "\n",
        "### XGBoost\n",
        "\n",
        "#### Características\n",
        "- Excelente em lidar com uma grande variedade de tipos de dados.\n",
        "- Bom para identificar interações complexas entre características.\n",
        "\n",
        "#### Pontos Fortes\n",
        "- Acurácia elevada.\n",
        "- Boa capacidade de generalização, especialmente após o ajuste de hiperparâmetros.\n",
        "\n",
        "#### Pontos Fracos\n",
        "- Risco de overfitting, embora isso tenha sido mitigado com o ajuste de hiperparâmetros.\n",
        "- Pode ser mais lento para treinar em comparação com modelos mais simples.\n",
        "\n",
        "### RandomForest\n",
        "\n",
        "#### Características\n",
        "- Funciona bem com uma grande quantidade de dados e características.\n",
        "- Menos propenso a overfitting devido à natureza de \"ensemble\" (conjunto de árvores de decisão).\n",
        "\n",
        "#### Pontos Fortes\n",
        "- Robusto a dados ruidosos e overfitting.\n",
        "- Boa capacidade de generalização, como evidenciado pela acurácia de 1.0.\n",
        "\n",
        "#### Pontos Fracos\n",
        "- Embora seja eficiente, pode ser lento para treinar com grandes conjuntos de dados.\n",
        "- Pode não ser tão eficaz em capturar relações não lineares complexas como o XGBoost.\n",
        "\n",
        "## Conclusão e Recomendação Final\n",
        "\n",
        "Ambos os modelos demonstraram uma acurácia perfeita após o ajuste dos hiperparâmetros, o que indica um alto grau de precisão na classificação da força das senhas. No entanto, é importante considerar outros fatores além da acurácia, como a complexidade do modelo, tempo de treinamento e interpretabilidade.\n",
        "\n",
        "- Para conjuntos de dados muito grandes ou com relações não lineares complexas, o **XGBoost** pode ser mais adequado.\n",
        "- Para um modelo mais robusto e menos propenso a overfitting, especialmente em conjuntos de dados com muitas características, o **RandomForest** seria uma escolha melhor.\n",
        "\n",
        "Dada a natureza dos dados (senhas e suas características), ambos os modelos são adequados, mas a escolha final pode depender de fatores específicos do projeto, como a disponibilidade de recursos computacionais e a necessidade de interpretabilidade dos resultados. Se o tempo de treinamento não for um problema e a complexidade dos dados exigir um modelo mais sofisticado, o **XGBoost** seria recomendado. Por outro lado, para uma aplicação mais rápida e robusta, o **RandomForest** seria preferível.\n"
      ],
      "metadata": {
        "id": "iIYm1srxP-qJ"
      }
    },
    {
      "cell_type": "markdown",
      "source": [
        "## Salvando o Modelo **RandomForest**"
      ],
      "metadata": {
        "id": "2NUjawp8P_t4"
      }
    },
    {
      "cell_type": "code",
      "source": [
        "from sklearn.ensemble import RandomForestClassifier\n",
        "from sklearn.model_selection import train_test_split, cross_val_score, KFold\n",
        "from sklearn.preprocessing import StandardScaler\n",
        "from sklearn.pipeline import Pipeline\n",
        "import pandas as pd\n",
        "import pickle\n",
        "\n",
        "# Carregue seus dados aqui\n",
        "# X, y = ...\n",
        "\n",
        "# Divisão em conjuntos de treino e teste\n",
        "X_train, X_test, y_train, y_test = train_test_split(X, y, test_size=0.3, random_state=42)\n",
        "\n",
        "# Parâmetros otimizados obtidos pelo GridSearchCV\n",
        "optimized_params = {'max_depth': 3, 'min_samples_split': 2, 'n_estimators': 50}\n",
        "\n",
        "# Criando o pipeline com normalização e RandomForest\n",
        "pipeline = Pipeline([\n",
        "    ('scaler', StandardScaler()),\n",
        "    ('rf', RandomForestClassifier(**optimized_params))\n",
        "])\n",
        "\n",
        "# K-Fold para a validação cruzada\n",
        "kf = KFold(n_splits=10, shuffle=True, random_state=42)\n",
        "\n",
        "# Executando a validação cruzada\n",
        "cv_scores = cross_val_score(pipeline, X_train, y_train, cv=kf, scoring='accuracy')\n",
        "\n",
        "print(\"Scores da Validação Cruzada:\", cv_scores)\n",
        "print(\"Média dos Scores:\", cv_scores.mean())\n",
        "\n",
        "# Treinando o modelo no conjunto completo de treino\n",
        "pipeline.fit(X_train, y_train)\n",
        "\n",
        "# Salvando o modelo com pickle\n",
        "model_path_pickle = '/content/drive/My Drive/0-Dataset/FortiCrypt/FortiCrypt.pkl'\n",
        "with open(model_path_pickle, 'wb') as file:\n",
        "    pickle.dump(pipeline, file)\n",
        "\n",
        "print(\"Modelo salvo com sucesso.\")\n",
        "\n",
        "# Carregando o modelo\n",
        "with open(model_path_pickle, 'rb') as file:\n",
        "    loaded_model = pickle.load(file)\n",
        "\n",
        "print(\"Modelo carregado com sucesso.\")\n"
      ],
      "metadata": {
        "colab": {
          "base_uri": "https://localhost:8080/"
        },
        "id": "Ey0ZAkzJQGNt",
        "outputId": "1e64a47d-efdf-4d77-f8d5-ae218f5a1e59"
      },
      "execution_count": 28,
      "outputs": [
        {
          "output_type": "stream",
          "name": "stdout",
          "text": [
            "Scores da Validação Cruzada: [0.81818182 1.         0.90909091 0.90909091 1.         1.\n",
            " 0.9        0.8        0.9        1.        ]\n",
            "Média dos Scores: 0.9236363636363636\n",
            "Modelo salvo com sucesso.\n",
            "Modelo carregado com sucesso.\n"
          ]
        }
      ]
    },
    {
      "cell_type": "markdown",
      "source": [
        "# Detectando tipo de Senha"
      ],
      "metadata": {
        "id": "HSEFEdKOgMsr"
      }
    },
    {
      "cell_type": "code",
      "source": [
        "import pickle\n",
        "from ipywidgets import widgets, Layout, Box, HTML\n",
        "from IPython.display import display\n",
        "\n",
        "# Carregar o modelo\n",
        "model_path = '/content/drive/My Drive/0-Dataset/FortiCrypt/FortiCrypt.pkl'\n",
        "with open(model_path, 'rb') as file:\n",
        "    model = pickle.load(file)\n",
        "\n",
        "# Função para extrair características da senha\n",
        "def extract_features(password):\n",
        "    return {\n",
        "        'length': len(password),\n",
        "        'num_uppercase': sum(1 for c in password if c.isupper()),\n",
        "        'num_numbers': sum(1 for c in password if c.isdigit()),\n",
        "        'num_symbols': sum(1 for c in password if not c.isalnum())\n",
        "    }\n",
        "\n",
        "def predict_strength(btn):\n",
        "    password = text.value\n",
        "    features = extract_features(password)\n",
        "\n",
        "    # Classificar senhas muito curtas como fracas\n",
        "    if len(password) < 6:\n",
        "        result_html.value = \"<div style='color: red; font-weight: bold;'>Senha Fraca</div>\"\n",
        "        return\n",
        "\n",
        "    prediction = model.predict([list(features.values())])\n",
        "    if prediction[0] == 2:\n",
        "        result_html.value = \"<div style='color: green; font-weight: bold;'>Senha Forte</div>\"\n",
        "    else:\n",
        "        result_html.value = \"<div style='color: orange; font-weight: bold;'>Senha Fraca ou Média</div>\"\n",
        "\n",
        "# Widgets\n",
        "text = widgets.Text(placeholder='Digite uma senha...', description='', disabled=False)\n",
        "btn = widgets.Button(description='Verificar Força', button_style='success')\n",
        "result_html = HTML('')\n",
        "\n",
        "# Layouts\n",
        "text.layout = Layout(width='300px', height='28px')\n",
        "btn.layout = Layout(width='150px', height='35px')\n",
        "\n",
        "# Box Container\n",
        "box_layout = Layout(display='flex', flex_flow='row', align_items='stretch', width='100%')\n",
        "box = Box(children=[text, btn], layout=box_layout)\n",
        "\n",
        "# Evento do botão\n",
        "btn.on_click(predict_strength)\n",
        "\n",
        "# Display widgets\n",
        "display(box, result_html)\n"
      ],
      "metadata": {
        "colab": {
          "base_uri": "https://localhost:8080/",
          "height": 88,
          "referenced_widgets": [
            "8b519ace1e8e403ab74beff535a00ae9",
            "b398565b02eb4596b3b2064969ccdd19",
            "6b31bcfedeca44e3bc0ebfeb5c8fbdc7",
            "8745550edb544a7fbdeb669a33d64924",
            "cb337c6289af4ef08e15f8a491291d90",
            "7a3590b2189840778bd0ac7e5066f4c4",
            "e36eed08fa26457ca5a4cfd8372ffcc5",
            "11cf79d4339b459a924963de762e48a2",
            "50edcaca11c44f08b90529bea6d38af4",
            "93c88e148e434e10bba847a05b9ec6bc",
            "49314ecb424e487dac2f8bbc83087ca5"
          ]
        },
        "id": "BLKkvzA-WaRr",
        "outputId": "1861366e-d254-4adc-bcc3-ac842be04c4a"
      },
      "execution_count": 30,
      "outputs": [
        {
          "output_type": "display_data",
          "data": {
            "text/plain": [
              "Box(children=(Text(value='', layout=Layout(height='28px', width='300px'), placeholder='Digite uma senha...'), …"
            ],
            "application/vnd.jupyter.widget-view+json": {
              "version_major": 2,
              "version_minor": 0,
              "model_id": "8b519ace1e8e403ab74beff535a00ae9"
            }
          },
          "metadata": {}
        },
        {
          "output_type": "display_data",
          "data": {
            "text/plain": [
              "HTML(value='')"
            ],
            "application/vnd.jupyter.widget-view+json": {
              "version_major": 2,
              "version_minor": 0,
              "model_id": "50edcaca11c44f08b90529bea6d38af4"
            }
          },
          "metadata": {}
        }
      ]
    },
    {
      "cell_type": "markdown",
      "source": [
        "# Gerador de Senha"
      ],
      "metadata": {
        "id": "NDOIaFirgOI0"
      }
    },
    {
      "cell_type": "markdown",
      "source": [
        "## Por Caracteristicas"
      ],
      "metadata": {
        "id": "1XRduzcugjyx"
      }
    },
    {
      "cell_type": "code",
      "source": [
        "import random\n",
        "import string\n",
        "from ipywidgets import widgets, Layout, Box, HTML, RadioButtons\n",
        "from IPython.display import display\n",
        "\n",
        "# Função para gerar senha\n",
        "def generate_password(length, include_uppercase, include_numbers, include_symbols):\n",
        "    characters = string.ascii_lowercase\n",
        "    if include_uppercase:\n",
        "        characters += string.ascii_uppercase\n",
        "    if include_numbers:\n",
        "        characters += string.digits\n",
        "    if include_symbols:\n",
        "        characters += string.punctuation\n",
        "\n",
        "    return ''.join(random.choice(characters) for i in range(length))\n",
        "\n",
        "# Função chamada quando o botão 'Gerar Senha' é clicado\n",
        "def on_generate_clicked(btn):\n",
        "    length = 12  # Comprimento padrão da senha, pode ser ajustado\n",
        "    include_uppercase = 'Maiúsculas' in password_type.value\n",
        "    include_numbers = 'Números' in password_type.value\n",
        "    include_symbols = 'Símbolos' in password_type.value\n",
        "    generated_password = generate_password(length, include_uppercase, include_numbers, include_symbols)\n",
        "    generated_password_html.value = f\"<div style='font-weight: bold;'>{generated_password}</div>\"\n",
        "\n",
        "# Widgets\n",
        "password_type = RadioButtons(\n",
        "    options=['Todas as Opções', 'Maiúsculas', 'Números', 'Símbolos'],\n",
        "    description='Tipo:',\n",
        "    disabled=False\n",
        ")\n",
        "generate_btn = widgets.Button(description='Gerar Senha', button_style='info')\n",
        "generated_password_html = HTML('')\n",
        "\n",
        "# Layouts\n",
        "generate_btn.layout = Layout(width='150px', height='35px')\n",
        "\n",
        "# Evento do botão\n",
        "generate_btn.on_click(on_generate_clicked)\n",
        "\n",
        "# Display widgets\n",
        "display(password_type, generate_btn, generated_password_html)\n"
      ],
      "metadata": {
        "colab": {
          "base_uri": "https://localhost:8080/",
          "height": 184,
          "referenced_widgets": [
            "18967d09598d48c594084517f947b961",
            "ffda606c31a74c948991e2ffd8a8d98b",
            "10d7f223ac5c44d9b68134d84202bd7c",
            "7d0e8ff94a354698bd66292cb46836bd",
            "5e8803269de047318db0305ac194e109",
            "2ec67c47c9c9444e85c0b924e8ec1667",
            "2a883ef05d744941849dea72566b089f",
            "8595df8d4bb64c7f98005059b40dab01",
            "fabc4bc2ec5042d6835c9777e861c250"
          ]
        },
        "id": "vmJfFffogP10",
        "outputId": "1437e486-afcf-4ae4-e3e3-594f768ae3fe"
      },
      "execution_count": 33,
      "outputs": [
        {
          "output_type": "display_data",
          "data": {
            "text/plain": [
              "RadioButtons(description='Tipo:', options=('Todas as Opções', 'Maiúsculas', 'Números', 'Símbolos'), value='Tod…"
            ],
            "application/vnd.jupyter.widget-view+json": {
              "version_major": 2,
              "version_minor": 0,
              "model_id": "18967d09598d48c594084517f947b961"
            }
          },
          "metadata": {}
        },
        {
          "output_type": "display_data",
          "data": {
            "text/plain": [
              "Button(button_style='info', description='Gerar Senha', layout=Layout(height='35px', width='150px'), style=Butt…"
            ],
            "application/vnd.jupyter.widget-view+json": {
              "version_major": 2,
              "version_minor": 0,
              "model_id": "7d0e8ff94a354698bd66292cb46836bd"
            }
          },
          "metadata": {}
        },
        {
          "output_type": "display_data",
          "data": {
            "text/plain": [
              "HTML(value='')"
            ],
            "application/vnd.jupyter.widget-view+json": {
              "version_major": 2,
              "version_minor": 0,
              "model_id": "2a883ef05d744941849dea72566b089f"
            }
          },
          "metadata": {}
        }
      ]
    },
    {
      "cell_type": "markdown",
      "source": [
        "## Por Tipo"
      ],
      "metadata": {
        "id": "EorQ0c9JgonT"
      }
    },
    {
      "cell_type": "code",
      "source": [
        "import random\n",
        "import string\n",
        "import pickle\n",
        "from ipywidgets import widgets, Layout, Box, HTML, RadioButtons\n",
        "from IPython.display import display\n",
        "\n",
        "# Carregar o modelo\n",
        "model_path = '/content/drive/My Drive/0-Dataset/FortiCrypt/FortiCrypt.pkl'\n",
        "with open(model_path, 'rb') as file:\n",
        "    model = pickle.load(file)\n",
        "\n",
        "# Função para extrair características da senha\n",
        "def extract_features(password):\n",
        "    return {\n",
        "        'length': len(password),\n",
        "        'num_uppercase': sum(1 for c in password if c.isupper()),\n",
        "        'num_numbers': sum(1 for c in password if c.isdigit()),\n",
        "        'num_symbols': sum(1 for c in password if not c.isalnum())\n",
        "    }\n",
        "\n",
        "# Função para gerar senha\n",
        "def generate_password(length):\n",
        "    characters = string.ascii_letters + string.digits + string.punctuation\n",
        "    return ''.join(random.choice(characters) for i in range(length))\n",
        "\n",
        "# Função para verificar se a senha atende ao critério\n",
        "def is_password_valid(password, desired_strength):\n",
        "    features = extract_features(password)\n",
        "    prediction = model.predict([list(features.values())])[0]\n",
        "    return prediction == desired_strength\n",
        "\n",
        "# Função chamada quando o botão 'Gerar Senha' é clicado\n",
        "def on_generate_clicked(btn):\n",
        "    desired_strength = {'Fraca': 0, 'Média': 1, 'Forte': 2}[password_strength.value]\n",
        "    length = {0: 6, 1: 8, 2: 12}[desired_strength]  # Comprimento varia com a força\n",
        "\n",
        "    while True:\n",
        "        generated_password = generate_password(length)\n",
        "        if is_password_valid(generated_password, desired_strength):\n",
        "            break\n",
        "\n",
        "    generated_password_html.value = f\"<div style='font-weight: bold;'>{generated_password}</div>\"\n",
        "\n",
        "# Widgets\n",
        "password_strength = RadioButtons(\n",
        "    options=['Fraca', 'Média', 'Forte'],\n",
        "    description='Força:',\n",
        "    disabled=False\n",
        ")\n",
        "generate_btn = widgets.Button(description='Gerar Senha', button_style='info')\n",
        "generated_password_html = HTML('')\n",
        "\n",
        "# Evento do botão\n",
        "generate_btn.on_click(on_generate_clicked)\n",
        "\n",
        "# Display widgets\n",
        "display(password_strength, generate_btn, generated_password_html)\n"
      ],
      "metadata": {
        "colab": {
          "base_uri": "https://localhost:8080/",
          "height": 177,
          "referenced_widgets": [
            "466d7ba375224bc39d45bdfd45561026",
            "6c88b7fae4104721a0c2bd2702c2bb72",
            "de31117ce14d40e0b96983fbabea2938",
            "1f8062fecd104b0ebe7ecab997ecc6da",
            "1d3a8fb42def4fca9a127127794e7162",
            "0503997934cf4dbe845815e690b3fe00",
            "3fc1919dfef64d6cb559aaacb39def02",
            "4abbcfcae22045b98506e6d525475ba7",
            "8348e29ec20b4e52bebdbd86ab63c115"
          ]
        },
        "id": "6Pw892EcgtBj",
        "outputId": "9e4e7916-6ece-48ae-d325-f740f624e13a"
      },
      "execution_count": 32,
      "outputs": [
        {
          "output_type": "display_data",
          "data": {
            "text/plain": [
              "RadioButtons(description='Força:', options=('Fraca', 'Média', 'Forte'), value='Fraca')"
            ],
            "application/vnd.jupyter.widget-view+json": {
              "version_major": 2,
              "version_minor": 0,
              "model_id": "466d7ba375224bc39d45bdfd45561026"
            }
          },
          "metadata": {}
        },
        {
          "output_type": "display_data",
          "data": {
            "text/plain": [
              "Button(button_style='info', description='Gerar Senha', style=ButtonStyle())"
            ],
            "application/vnd.jupyter.widget-view+json": {
              "version_major": 2,
              "version_minor": 0,
              "model_id": "1f8062fecd104b0ebe7ecab997ecc6da"
            }
          },
          "metadata": {}
        },
        {
          "output_type": "display_data",
          "data": {
            "text/plain": [
              "HTML(value='')"
            ],
            "application/vnd.jupyter.widget-view+json": {
              "version_major": 2,
              "version_minor": 0,
              "model_id": "3fc1919dfef64d6cb559aaacb39def02"
            }
          },
          "metadata": {}
        }
      ]
    },
    {
      "cell_type": "markdown",
      "source": [
        "# Criando uma API para verificar tipo de senha"
      ],
      "metadata": {
        "id": "8doYJ_HThMDZ"
      }
    },
    {
      "cell_type": "code",
      "source": [
        "pip install flask\n"
      ],
      "metadata": {
        "colab": {
          "base_uri": "https://localhost:8080/"
        },
        "id": "ygM29pJphPjO",
        "outputId": "2b802f62-2e22-4269-db39-f462c73cd125"
      },
      "execution_count": 34,
      "outputs": [
        {
          "output_type": "stream",
          "name": "stdout",
          "text": [
            "Requirement already satisfied: flask in /usr/local/lib/python3.10/dist-packages (2.2.5)\n",
            "Requirement already satisfied: Werkzeug>=2.2.2 in /usr/local/lib/python3.10/dist-packages (from flask) (3.0.1)\n",
            "Requirement already satisfied: Jinja2>=3.0 in /usr/local/lib/python3.10/dist-packages (from flask) (3.1.2)\n",
            "Requirement already satisfied: itsdangerous>=2.0 in /usr/local/lib/python3.10/dist-packages (from flask) (2.1.2)\n",
            "Requirement already satisfied: click>=8.0 in /usr/local/lib/python3.10/dist-packages (from flask) (8.1.7)\n",
            "Requirement already satisfied: MarkupSafe>=2.0 in /usr/local/lib/python3.10/dist-packages (from Jinja2>=3.0->flask) (2.1.3)\n"
          ]
        }
      ]
    },
    {
      "cell_type": "code",
      "source": [
        "from flask import Flask, request, jsonify\n",
        "import pickle\n",
        "\n",
        "app = Flask(__name__)\n",
        "\n",
        "# Carregar o modelo\n",
        "model_path = '/content/drive/My Drive/0-Dataset/FortiCrypt/FortiCrypt.pkl'\n",
        "with open(model_path, 'rb') as file:\n",
        "    model = pickle.load(file)\n",
        "\n",
        "# Função para extrair características da senha\n",
        "def extract_features(password):\n",
        "    return {\n",
        "        'length': len(password),\n",
        "        'num_uppercase': sum(1 for c in password if c.isupper()),\n",
        "        'num_numbers': sum(1 for c in password if c.isdigit()),\n",
        "        'num_symbols': sum(1 for c in password if not c.isalnum())\n",
        "    }\n",
        "\n",
        "@app.route('/predict', methods=['POST'])\n",
        "def predict():\n",
        "    data = request.json\n",
        "    password = data.get(\"password\")\n",
        "    features = extract_features(password)\n",
        "    prediction = model.predict([list(features.values())])[0]\n",
        "    strength = {0: \"Fraca\", 1: \"Média\", 2: \"Forte\"}.get(prediction, \"Indefinido\")\n",
        "    return jsonify({'password': password, 'strength': strength})\n",
        "\n",
        "if __name__ == '__main__':\n",
        "    app.run(debug=True)\n"
      ],
      "metadata": {
        "colab": {
          "base_uri": "https://localhost:8080/"
        },
        "id": "Dr9J0VHthS3Z",
        "outputId": "a66b4545-32e7-409e-9eb7-021bfb293470"
      },
      "execution_count": 37,
      "outputs": [
        {
          "output_type": "stream",
          "name": "stdout",
          "text": [
            " * Serving Flask app '__main__'\n",
            " * Debug mode: on\n"
          ]
        },
        {
          "output_type": "stream",
          "name": "stderr",
          "text": [
            "INFO:werkzeug:\u001b[31m\u001b[1mWARNING: This is a development server. Do not use it in a production deployment. Use a production WSGI server instead.\u001b[0m\n",
            " * Running on http://127.0.0.1:5000\n",
            "INFO:werkzeug:\u001b[33mPress CTRL+C to quit\u001b[0m\n",
            "INFO:werkzeug: * Restarting with stat\n"
          ]
        }
      ]
    }
  ]
}